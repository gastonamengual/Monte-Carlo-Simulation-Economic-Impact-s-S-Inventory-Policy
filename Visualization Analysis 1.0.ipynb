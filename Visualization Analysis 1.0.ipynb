{
 "cells": [
  {
   "cell_type": "code",
   "execution_count": 1,
   "metadata": {
    "ExecuteTime": {
     "end_time": "2020-08-30T10:17:19.776174Z",
     "start_time": "2020-08-30T10:17:19.770193Z"
    }
   },
   "outputs": [],
   "source": [
    "__version__ = \"2.0\""
   ]
  },
  {
   "cell_type": "markdown",
   "metadata": {},
   "source": [
    "# Stock Visualization Analisys"
   ]
  },
  {
   "cell_type": "code",
   "execution_count": 1,
   "metadata": {
    "ExecuteTime": {
     "end_time": "2020-08-30T10:17:22.522238Z",
     "start_time": "2020-08-30T10:17:19.783173Z"
    }
   },
   "outputs": [],
   "source": [
    "# common.py\n",
    "import common\n",
    "from common import symmetric_simple_moving_average, calc_total_days\n",
    "\n",
    "# parameters.py\n",
    "from parameters import get_parameters_pnl\n",
    "\n",
    "# interpolation.py\n",
    "import interpolation as itpl\n",
    "from interpolation import aggregate\n",
    "\n",
    "# visualization_functions.py\n",
    "import visualization_functions as vf\n",
    "from visualization_functions import *\n",
    "\n",
    "# Standard Library\n",
    "from datetime import datetime, timedelta\n",
    "import calendar\n",
    "from collections import defaultdict\n",
    "from time import perf_counter\n",
    "\n",
    "# General\n",
    "import numpy as np\n",
    "import pandas as pd\n",
    "import seaborn as sns"
   ]
  },
  {
   "cell_type": "code",
   "execution_count": 2,
   "metadata": {
    "ExecuteTime": {
     "end_time": "2020-08-30T10:17:22.541179Z",
     "start_time": "2020-08-30T10:17:22.527181Z"
    }
   },
   "outputs": [],
   "source": [
    "from pandas.plotting import register_matplotlib_converters\n",
    "register_matplotlib_converters()"
   ]
  },
  {
   "cell_type": "code",
   "execution_count": 3,
   "metadata": {
    "ExecuteTime": {
     "end_time": "2020-08-30T10:17:22.569174Z",
     "start_time": "2020-08-30T10:17:22.551180Z"
    }
   },
   "outputs": [
    {
     "name": "stdout",
     "output_type": "stream",
     "text": [
      "                  numpy: 1.19.2\n",
      "                 pandas: 1.1.3\n",
      "          interpolation: 1.0\n",
      "visualization_functions: 1.0\n",
      "                 common: 1.0\n"
     ]
    }
   ],
   "source": [
    "libraries = [np, pd, itpl, vf, common]\n",
    "\n",
    "for lib in libraries:\n",
    "    print(f\"{lib.__name__:>23}: {lib.__version__}\")"
   ]
  },
  {
   "cell_type": "code",
   "execution_count": 4,
   "metadata": {
    "ExecuteTime": {
     "end_time": "2020-08-30T10:17:22.599172Z",
     "start_time": "2020-08-30T10:17:22.573173Z"
    }
   },
   "outputs": [],
   "source": [
    "plt.style.use(\"bmh\")\n",
    "plt.rcParams['figure.figsize'] = (16, 10 / 2)\n",
    "\n",
    "np.random.seed(42)"
   ]
  },
  {
   "cell_type": "markdown",
   "metadata": {},
   "source": [
    "# Simulation Execution"
   ]
  },
  {
   "cell_type": "code",
   "execution_count": null,
   "metadata": {
    "ExecuteTime": {
     "end_time": "2020-08-30T17:45:10.453759Z",
     "start_time": "2020-08-30T10:17:19.815Z"
    }
   },
   "outputs": [],
   "source": [
    "parameters, months = get_parameters_pnl()\n",
    "replicates = 20\n",
    "\n",
    "start_time = perf_counter()\n",
    "aggregated_df, dfs_interpolates = aggregate(parameters,replicates)\n",
    "elapsed = perf_counter() - start_time\n",
    "\n",
    "df_bytes = np.sum([df.memory_usage() for df in dfs_interpolates])\n",
    "df_megabytes = df_bytes / 1024 / 1024\n",
    "\n",
    "print(f\"{replicates:3d} Replicates | Mean Size: {df_megabytes:7.2f}MB | Mean Execution Time {elapsed:5.1f}s\")"
   ]
  },
  {
   "cell_type": "markdown",
   "metadata": {},
   "source": [
    "# Aggregations"
   ]
  },
  {
   "cell_type": "code",
   "execution_count": null,
   "metadata": {
    "ExecuteTime": {
     "end_time": "2020-08-30T17:45:10.457758Z",
     "start_time": "2020-08-30T10:17:19.821Z"
    }
   },
   "outputs": [],
   "source": [
    "# Group By Mean\n",
    "df_means = aggregated_df.mean()\n",
    "df_std = aggregated_df.std()\n",
    "df_minus2std = df_means - 2 * df_std\n",
    "df_plus2std = df_means + 2 * df_std\n",
    "\n",
    "# Group By Quantiles\n",
    "quantile_range = 0.95\n",
    "df_median = aggregated_df.median()\n",
    "df_quantile_025 = aggregated_df.quantile((1 - quantile_range) / 2) #0.025\n",
    "df_quantile_975 = aggregated_df.quantile(1 - (1 - quantile_range) / 2) #0.975"
   ]
  },
  {
   "cell_type": "code",
   "execution_count": null,
   "metadata": {
    "ExecuteTime": {
     "end_time": "2020-08-30T17:45:10.480754Z",
     "start_time": "2020-08-30T10:17:19.837Z"
    }
   },
   "outputs": [],
   "source": [
    "df_quantile_025"
   ]
  },
  {
   "cell_type": "markdown",
   "metadata": {},
   "source": [
    "# Shadow Plots"
   ]
  },
  {
   "cell_type": "code",
   "execution_count": null,
   "metadata": {
    "ExecuteTime": {
     "end_time": "2020-08-30T17:45:10.484753Z",
     "start_time": "2020-08-30T10:17:19.852Z"
    }
   },
   "outputs": [],
   "source": [
    "shadow_plot(df_means['capital'], df_minus2std['capital'], df_plus2std['capital'], 'Mean', '+-2 STD', 'Capital with 2 STD Confidence', 'darkcyan')\n",
    "plt.show()\n",
    "\n",
    "shadow_plot(df_median['capital'], df_quantile_025['capital'], df_quantile_975['capital'], 'Median', '95% Range', 'Capital with 95% Confidence', 'firebrick')\n",
    "plt.show()\n",
    "\n",
    "shadow_plot(df_means['capital'], df_minus2std['capital'], df_plus2std['capital'], 'Mean', '+-2 STD', 'Capital with Confidence', 'darkcyan')\n",
    "shadow_plot(df_median['capital'], df_quantile_025['capital'], df_quantile_975['capital'], 'Median', '95% Range', 'Capital with Confidence', 'firebrick')\n",
    "plt.show()"
   ]
  },
  {
   "cell_type": "markdown",
   "metadata": {},
   "source": [
    "# All replicates plot"
   ]
  },
  {
   "cell_type": "code",
   "execution_count": null,
   "metadata": {
    "ExecuteTime": {
     "end_time": "2020-08-30T17:45:10.487753Z",
     "start_time": "2020-08-30T10:17:19.859Z"
    },
    "scrolled": true
   },
   "outputs": [],
   "source": [
    "for df in dfs_interpolates:\n",
    "    df['capital'].plot(linewidth=1)\n",
    "\n",
    "plt.title(f'{replicates} simulations plot')\n",
    "plt.xlabel('Days')\n",
    "plt.ylabel('Capital ($)')\n",
    "plt.show()"
   ]
  },
  {
   "cell_type": "markdown",
   "metadata": {},
   "source": [
    "# Histogram of slices of a specific times"
   ]
  },
  {
   "cell_type": "code",
   "execution_count": null,
   "metadata": {
    "ExecuteTime": {
     "end_time": "2020-08-30T17:45:10.490752Z",
     "start_time": "2020-08-30T10:17:19.872Z"
    }
   },
   "outputs": [],
   "source": [
    "indexes = (np.linspace(1000, len(dfs_interpolates[0])-1000, 5)).astype(int)\n",
    "for i in indexes:\n",
    "    slice_ = [df['capital'].iloc[i] for df in dfs_interpolates]\n",
    "    plt.hist(slice_, label=str(df['capital'].index[i].date()))\n",
    "    \n",
    "plt.title('Histograms of slices of capital')\n",
    "plt.xlabel('Capital ($)')\n",
    "plt.legend()\n",
    "plt.show()"
   ]
  },
  {
   "cell_type": "markdown",
   "metadata": {},
   "source": [
    "# Flow Plots"
   ]
  },
  {
   "cell_type": "code",
   "execution_count": null,
   "metadata": {
    "ExecuteTime": {
     "end_time": "2020-08-30T17:45:10.492753Z",
     "start_time": "2020-08-30T10:17:19.880Z"
    }
   },
   "outputs": [],
   "source": [
    "initial_stock_cost = parameters['unit_cost'] * parameters['stock_level']\n",
    "flow_plot(df_means['stock'],df_means['stock_floor'],df_means['stock_ceil'],'Instant Stock Flow Mean','Stock Level','s Level','S Level',with_floor=True,with_ceil=True)\n",
    "flow_plot(df_means['capital']-initial_stock_cost,df_means['stock_floor'],df_means['stock_ceil'],'Capital Flow Mean','Capital ($)','s Level','S Level',with_floor=False,with_ceil=False)\n",
    "flow_plot(df_means['price'],df_means['price_floor'],df_means['price_ceil'],'Price Flow Mean','Price ($)','Minimum','Maximum',with_floor=True,with_ceil=True)"
   ]
  },
  {
   "cell_type": "markdown",
   "metadata": {},
   "source": [
    "# Agregate with period plot - Mean/Median"
   ]
  },
  {
   "cell_type": "code",
   "execution_count": null,
   "metadata": {
    "ExecuteTime": {
     "end_time": "2020-08-30T17:45:10.495755Z",
     "start_time": "2020-08-30T10:17:19.886Z"
    }
   },
   "outputs": [],
   "source": [
    "aggregate_with_period_low_high(df_means['stock'], df_minus2std['stock'], df_plus2std['stock'], 'D', 'Daily Stock - Mean')\n",
    "aggregate_with_period_low_high(df_median['stock'], df_quantile_025['stock'], df_quantile_975['stock'], 'D', 'Daily Stock - Median')\n",
    "aggregate_with_period_low_high(df_median['stock'], df_quantile_025['stock'], df_quantile_975['stock'], 'M', 'Monthly Stock - Median')\n",
    "aggregate_with_period_low_high(df_median['capital'], df_quantile_025['capital'], df_quantile_975['capital'], 'D', 'Daily Capital')"
   ]
  },
  {
   "cell_type": "markdown",
   "metadata": {},
   "source": [
    "# Time Series Plot Shadow"
   ]
  },
  {
   "cell_type": "code",
   "execution_count": null,
   "metadata": {
    "ExecuteTime": {
     "end_time": "2020-08-30T17:45:10.498752Z",
     "start_time": "2020-08-30T10:17:19.891Z"
    }
   },
   "outputs": [],
   "source": [
    "df_means['arrivals']"
   ]
  },
  {
   "cell_type": "code",
   "execution_count": null,
   "metadata": {
    "ExecuteTime": {
     "end_time": "2020-08-30T17:45:10.501751Z",
     "start_time": "2020-08-30T10:17:19.896Z"
    }
   },
   "outputs": [],
   "source": [
    "plot_time_series_shadow(df_means['arrivals'], df_minus2std['arrivals'], df_plus2std['arrivals'], 'D', 'arrivals', \"Daily Arrivals Mean\")\n",
    "plot_time_series_shadow(df_means['sales'], df_minus2std['sales'], df_plus2std['sales'], 'D', 'sales', \"Daily Sales Mean\")"
   ]
  },
  {
   "cell_type": "markdown",
   "metadata": {},
   "source": [
    "# Replicas Scatter plot"
   ]
  },
  {
   "cell_type": "code",
   "execution_count": null,
   "metadata": {
    "ExecuteTime": {
     "end_time": "2020-08-30T17:45:10.503751Z",
     "start_time": "2020-08-30T10:17:19.902Z"
    }
   },
   "outputs": [],
   "source": [
    "for df in dfs_interpolates:\n",
    "    plot_scatter(df['losses'], 'D', \"Daily Losses\", 'darkred', show=False)\n",
    "plt.show()\n",
    "\n",
    "for df in dfs_interpolates:\n",
    "    plot_scatter(df['orders'], 'D', \"Daily Losses\", 'forestgreen', show=False)\n",
    "plt.show()"
   ]
  },
  {
   "cell_type": "markdown",
   "metadata": {},
   "source": [
    "# High/Middle/Low Scatter Plots"
   ]
  },
  {
   "cell_type": "code",
   "execution_count": null,
   "metadata": {
    "ExecuteTime": {
     "end_time": "2020-08-30T17:45:10.510751Z",
     "start_time": "2020-08-30T10:17:19.907Z"
    }
   },
   "outputs": [],
   "source": [
    "plot_scatter(df_quantile_975['losses'], 'M', \"Daily Losses\", 'rebeccapurple', show=False)\n",
    "plot_scatter(df_median['losses'], 'M', \"Daily Losses\", 'forestgreen', show=False)\n",
    "plot_scatter(df_quantile_025['losses'], 'M', \"Daily Losses\", 'salmon', show=False)\n",
    "plt.show()\n",
    "\n",
    "plot_scatter(df_quantile_975['orders'], 'M', \"Daily Losses\", 'rebeccapurple', show=False)\n",
    "plot_scatter(df_median['orders'], 'M', \"Daily Losses\", 'forestgreen', show=False)\n",
    "plot_scatter(df_quantile_025['orders'], 'M', \"Daily Losses\", 'salmon', show=False)\n",
    "plt.show()"
   ]
  }
 ],
 "metadata": {
  "kernelspec": {
   "display_name": "Python 3",
   "language": "python",
   "name": "python3"
  },
  "language_info": {
   "codemirror_mode": {
    "name": "ipython",
    "version": 3
   },
   "file_extension": ".py",
   "mimetype": "text/x-python",
   "name": "python",
   "nbconvert_exporter": "python",
   "pygments_lexer": "ipython3",
   "version": "3.7.9"
  }
 },
 "nbformat": 4,
 "nbformat_minor": 4
}
